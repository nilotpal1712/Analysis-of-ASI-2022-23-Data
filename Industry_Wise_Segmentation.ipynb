{
 "cells": [
  {
   "cell_type": "markdown",
   "id": "afa2d3dd-dd5a-42b0-b5b5-a8cf746bf73e",
   "metadata": {},
   "source": [
    "# Step-1: Loading the data and the necessary libraries & function classes"
   ]
  },
  {
   "cell_type": "markdown",
   "id": "4603067b-2068-41ca-b7ee-7be4cd7fe7ad",
   "metadata": {},
   "source": [
    "## A. Loading the basic libraries"
   ]
  },
  {
   "cell_type": "code",
   "execution_count": 3,
   "id": "d876f38f-7ce5-44a0-bb60-b49a81182ec3",
   "metadata": {},
   "outputs": [],
   "source": [
    "import pandas as pd\n",
    "import numpy as np"
   ]
  },
  {
   "cell_type": "markdown",
   "id": "c802d461-7bf1-4725-9df8-1662f639a1ad",
   "metadata": {},
   "source": [
    "## B. Loading the Data"
   ]
  },
  {
   "cell_type": "code",
   "execution_count": 5,
   "id": "803f23d5-2369-4e63-9afe-c81b99780df7",
   "metadata": {},
   "outputs": [],
   "source": [
    "df = pd.read_csv('iws.csv')"
   ]
  },
  {
   "cell_type": "markdown",
   "id": "b9637f57-7581-42d1-846a-e34acc3ce3ad",
   "metadata": {},
   "source": [
    "## C. Display the first few rows to understand its structure"
   ]
  },
  {
   "cell_type": "code",
   "execution_count": 7,
   "id": "8170bda9-01d6-4c20-af0d-878cbec0efbb",
   "metadata": {},
   "outputs": [
    {
     "data": {
      "text/html": [
       "<div>\n",
       "<style scoped>\n",
       "    .dataframe tbody tr th:only-of-type {\n",
       "        vertical-align: middle;\n",
       "    }\n",
       "\n",
       "    .dataframe tbody tr th {\n",
       "        vertical-align: top;\n",
       "    }\n",
       "\n",
       "    .dataframe thead th {\n",
       "        text-align: right;\n",
       "    }\n",
       "</style>\n",
       "<table border=\"1\" class=\"dataframe\">\n",
       "  <thead>\n",
       "    <tr style=\"text-align: right;\">\n",
       "      <th></th>\n",
       "      <th>Industry</th>\n",
       "      <th>no_of_factories</th>\n",
       "      <th>fixed_capital</th>\n",
       "      <th>working_capital</th>\n",
       "      <th>invested_capital</th>\n",
       "      <th>outstanding_loans</th>\n",
       "      <th>no_of_workers</th>\n",
       "      <th>total_persons_engaged</th>\n",
       "      <th>wages_workers</th>\n",
       "      <th>total_emoluments</th>\n",
       "      <th>...</th>\n",
       "      <th>interest_received</th>\n",
       "      <th>net_income</th>\n",
       "      <th>net_fixed_capital_formation</th>\n",
       "      <th>gross_fixed_capital_formation</th>\n",
       "      <th>addn_raw_mat_fuel</th>\n",
       "      <th>addn_semi_finished</th>\n",
       "      <th>addn_finished</th>\n",
       "      <th>addn_total</th>\n",
       "      <th>gross_capital_formation</th>\n",
       "      <th>net_profit</th>\n",
       "    </tr>\n",
       "  </thead>\n",
       "  <tbody>\n",
       "    <tr>\n",
       "      <th>0</th>\n",
       "      <td>Agriculture Support Activities</td>\n",
       "      <td>3226</td>\n",
       "      <td>7.451960e+10</td>\n",
       "      <td>1.550000e+11</td>\n",
       "      <td>2.520000e+11</td>\n",
       "      <td>8.901980e+10</td>\n",
       "      <td>64408</td>\n",
       "      <td>83315</td>\n",
       "      <td>1.014880e+10</td>\n",
       "      <td>2.129680e+10</td>\n",
       "      <td>...</td>\n",
       "      <td>2026800000</td>\n",
       "      <td>6.676600e+10</td>\n",
       "      <td>5.351200e+09</td>\n",
       "      <td>1.320810e+10</td>\n",
       "      <td>4.650000e+08</td>\n",
       "      <td>-5234500000</td>\n",
       "      <td>1.673000e+09</td>\n",
       "      <td>-3.096400e+09</td>\n",
       "      <td>1.011170e+10</td>\n",
       "      <td>4.390800e+10</td>\n",
       "    </tr>\n",
       "    <tr>\n",
       "      <th>1</th>\n",
       "      <td>Mining And Quarrying</td>\n",
       "      <td>131</td>\n",
       "      <td>6.623900e+09</td>\n",
       "      <td>3.749000e+09</td>\n",
       "      <td>9.121200e+09</td>\n",
       "      <td>2.786300e+09</td>\n",
       "      <td>6829</td>\n",
       "      <td>7928</td>\n",
       "      <td>9.300000e+08</td>\n",
       "      <td>1.503400e+09</td>\n",
       "      <td>...</td>\n",
       "      <td>142100000</td>\n",
       "      <td>6.164900e+09</td>\n",
       "      <td>7.225000e+08</td>\n",
       "      <td>1.511400e+09</td>\n",
       "      <td>-1.800000e+06</td>\n",
       "      <td>-8300000</td>\n",
       "      <td>1.221700e+09</td>\n",
       "      <td>1.211600e+09</td>\n",
       "      <td>2.722900e+09</td>\n",
       "      <td>4.488500e+09</td>\n",
       "    </tr>\n",
       "    <tr>\n",
       "      <th>2</th>\n",
       "      <td>Processing and preserving of meat</td>\n",
       "      <td>187</td>\n",
       "      <td>3.387770e+10</td>\n",
       "      <td>2.916350e+10</td>\n",
       "      <td>5.641780e+10</td>\n",
       "      <td>1.283990e+10</td>\n",
       "      <td>25188</td>\n",
       "      <td>31822</td>\n",
       "      <td>4.624300e+09</td>\n",
       "      <td>9.515600e+09</td>\n",
       "      <td>...</td>\n",
       "      <td>134200000</td>\n",
       "      <td>4.393200e+09</td>\n",
       "      <td>3.941500e+09</td>\n",
       "      <td>7.679600e+09</td>\n",
       "      <td>9.026000e+08</td>\n",
       "      <td>168100000</td>\n",
       "      <td>1.635900e+09</td>\n",
       "      <td>2.706600e+09</td>\n",
       "      <td>1.038610e+10</td>\n",
       "      <td>-6.025500e+09</td>\n",
       "    </tr>\n",
       "    <tr>\n",
       "      <th>3</th>\n",
       "      <td>Processing and preserving of fish etc</td>\n",
       "      <td>706</td>\n",
       "      <td>8.898990e+10</td>\n",
       "      <td>1.010000e+11</td>\n",
       "      <td>1.930000e+11</td>\n",
       "      <td>3.890790e+10</td>\n",
       "      <td>90526</td>\n",
       "      <td>111882</td>\n",
       "      <td>1.549340e+10</td>\n",
       "      <td>2.849330e+10</td>\n",
       "      <td>...</td>\n",
       "      <td>1292700000</td>\n",
       "      <td>5.383320e+10</td>\n",
       "      <td>6.338500e+09</td>\n",
       "      <td>1.526210e+10</td>\n",
       "      <td>2.789300e+09</td>\n",
       "      <td>-25900000</td>\n",
       "      <td>1.109880e+10</td>\n",
       "      <td>1.386230e+10</td>\n",
       "      <td>2.912440e+10</td>\n",
       "      <td>2.232110e+10</td>\n",
       "    </tr>\n",
       "    <tr>\n",
       "      <th>4</th>\n",
       "      <td>Processing and preserving of fruit and vegetables</td>\n",
       "      <td>1346</td>\n",
       "      <td>1.230000e+11</td>\n",
       "      <td>7.125930e+10</td>\n",
       "      <td>1.970000e+11</td>\n",
       "      <td>1.000000e+11</td>\n",
       "      <td>70853</td>\n",
       "      <td>90481</td>\n",
       "      <td>1.223510e+10</td>\n",
       "      <td>2.556220e+10</td>\n",
       "      <td>...</td>\n",
       "      <td>1031900000</td>\n",
       "      <td>4.149500e+10</td>\n",
       "      <td>1.227960e+10</td>\n",
       "      <td>2.303350e+10</td>\n",
       "      <td>8.721500e+09</td>\n",
       "      <td>569800000</td>\n",
       "      <td>5.203400e+09</td>\n",
       "      <td>1.449460e+10</td>\n",
       "      <td>3.752810e+10</td>\n",
       "      <td>1.313500e+10</td>\n",
       "    </tr>\n",
       "  </tbody>\n",
       "</table>\n",
       "<p>5 rows × 31 columns</p>\n",
       "</div>"
      ],
      "text/plain": [
       "                                            Industry  no_of_factories  \\\n",
       "0                     Agriculture Support Activities             3226   \n",
       "1                               Mining And Quarrying              131   \n",
       "2                  Processing and preserving of meat              187   \n",
       "3              Processing and preserving of fish etc              706   \n",
       "4  Processing and preserving of fruit and vegetables             1346   \n",
       "\n",
       "   fixed_capital  working_capital  invested_capital  outstanding_loans  \\\n",
       "0   7.451960e+10     1.550000e+11      2.520000e+11       8.901980e+10   \n",
       "1   6.623900e+09     3.749000e+09      9.121200e+09       2.786300e+09   \n",
       "2   3.387770e+10     2.916350e+10      5.641780e+10       1.283990e+10   \n",
       "3   8.898990e+10     1.010000e+11      1.930000e+11       3.890790e+10   \n",
       "4   1.230000e+11     7.125930e+10      1.970000e+11       1.000000e+11   \n",
       "\n",
       "   no_of_workers  total_persons_engaged  wages_workers  total_emoluments  ...  \\\n",
       "0          64408                  83315   1.014880e+10      2.129680e+10  ...   \n",
       "1           6829                   7928   9.300000e+08      1.503400e+09  ...   \n",
       "2          25188                  31822   4.624300e+09      9.515600e+09  ...   \n",
       "3          90526                 111882   1.549340e+10      2.849330e+10  ...   \n",
       "4          70853                  90481   1.223510e+10      2.556220e+10  ...   \n",
       "\n",
       "   interest_received    net_income  net_fixed_capital_formation  \\\n",
       "0         2026800000  6.676600e+10                 5.351200e+09   \n",
       "1          142100000  6.164900e+09                 7.225000e+08   \n",
       "2          134200000  4.393200e+09                 3.941500e+09   \n",
       "3         1292700000  5.383320e+10                 6.338500e+09   \n",
       "4         1031900000  4.149500e+10                 1.227960e+10   \n",
       "\n",
       "   gross_fixed_capital_formation  addn_raw_mat_fuel  addn_semi_finished  \\\n",
       "0                   1.320810e+10       4.650000e+08         -5234500000   \n",
       "1                   1.511400e+09      -1.800000e+06            -8300000   \n",
       "2                   7.679600e+09       9.026000e+08           168100000   \n",
       "3                   1.526210e+10       2.789300e+09           -25900000   \n",
       "4                   2.303350e+10       8.721500e+09           569800000   \n",
       "\n",
       "   addn_finished    addn_total  gross_capital_formation    net_profit  \n",
       "0   1.673000e+09 -3.096400e+09             1.011170e+10  4.390800e+10  \n",
       "1   1.221700e+09  1.211600e+09             2.722900e+09  4.488500e+09  \n",
       "2   1.635900e+09  2.706600e+09             1.038610e+10 -6.025500e+09  \n",
       "3   1.109880e+10  1.386230e+10             2.912440e+10  2.232110e+10  \n",
       "4   5.203400e+09  1.449460e+10             3.752810e+10  1.313500e+10  \n",
       "\n",
       "[5 rows x 31 columns]"
      ]
     },
     "execution_count": 7,
     "metadata": {},
     "output_type": "execute_result"
    }
   ],
   "source": [
    "df.head()"
   ]
  },
  {
   "cell_type": "markdown",
   "id": "349151fc-1994-4d97-8a6e-f894f0b90bb3",
   "metadata": {},
   "source": [
    "# Step-2: Preprocess the Data"
   ]
  },
  {
   "cell_type": "markdown",
   "id": "33335e27-719e-486f-82fd-3f9944757a5f",
   "metadata": {},
   "source": [
    "## A. Check for missing values"
   ]
  },
  {
   "cell_type": "code",
   "execution_count": 10,
   "id": "82c02489-7093-4232-97c5-3c8b108ee2a7",
   "metadata": {},
   "outputs": [
    {
     "data": {
      "text/plain": [
       "Industry                         0\n",
       "no_of_factories                  0\n",
       "fixed_capital                    0\n",
       "working_capital                  0\n",
       "invested_capital                 0\n",
       "outstanding_loans                0\n",
       "no_of_workers                    0\n",
       "total_persons_engaged            0\n",
       "wages_workers                    0\n",
       "total_emoluments                 0\n",
       "pf_esi_others                    0\n",
       "fuel_consumed                    0\n",
       "material_consumed                0\n",
       "total_input                      0\n",
       "products_by_products             0\n",
       "total_output                     0\n",
       "depreciation                     0\n",
       "nva                              0\n",
       "rent_paid                        0\n",
       "interest_paid                    0\n",
       "rent_received                    0\n",
       "interest_received                0\n",
       "net_income                       0\n",
       "net_fixed_capital_formation      0\n",
       "gross_fixed_capital_formation    0\n",
       "addn_raw_mat_fuel                0\n",
       "addn_semi_finished               0\n",
       "addn_finished                    0\n",
       "addn_total                       0\n",
       "gross_capital_formation          0\n",
       "net_profit                       0\n",
       "dtype: int64"
      ]
     },
     "execution_count": 10,
     "metadata": {},
     "output_type": "execute_result"
    }
   ],
   "source": [
    "df.isnull().sum()"
   ]
  },
  {
   "cell_type": "markdown",
   "id": "99ddefe3-1407-422e-bd0a-9c4b68b61d13",
   "metadata": {},
   "source": [
    "## B. Identify categorical columns"
   ]
  },
  {
   "cell_type": "code",
   "execution_count": 12,
   "id": "a4429297-893c-4a94-b5f9-cdfe30f6ca09",
   "metadata": {},
   "outputs": [
    {
     "data": {
      "text/plain": [
       "Index(['Industry'], dtype='object')"
      ]
     },
     "execution_count": 12,
     "metadata": {},
     "output_type": "execute_result"
    }
   ],
   "source": [
    "categorical_cols = df.select_dtypes(include = ['object']).columns\n",
    "categorical_cols"
   ]
  },
  {
   "cell_type": "markdown",
   "id": "3ae3cbb3-840b-4a2b-ae8e-a457ead0bd48",
   "metadata": {},
   "source": [
    "# Step-3: OneHot Encoding"
   ]
  },
  {
   "cell_type": "markdown",
   "id": "9d119f7d-deea-41ea-804b-d211f4744cba",
   "metadata": {},
   "source": [
    "## A. Importing the library"
   ]
  },
  {
   "cell_type": "code",
   "execution_count": 15,
   "id": "9b7d74f4-e02e-4eb1-8f28-376f047c941e",
   "metadata": {},
   "outputs": [],
   "source": [
    "from sklearn.preprocessing import OneHotEncoder"
   ]
  },
  {
   "cell_type": "markdown",
   "id": "a4c7bbb6-0a6d-4a07-be2c-06f831521b37",
   "metadata": {},
   "source": [
    "## B. Initialize OneHotEncoder"
   ]
  },
  {
   "cell_type": "code",
   "execution_count": 17,
   "id": "67f90288-2916-490f-be11-87f24f69168b",
   "metadata": {},
   "outputs": [],
   "source": [
    "encoder = OneHotEncoder(drop = 'first', sparse_output = False)\n",
    "encoded_cols = encoder.fit_transform(df[categorical_cols])"
   ]
  },
  {
   "cell_type": "markdown",
   "id": "65cacf95-d514-4840-a7b9-14651d3295ca",
   "metadata": {},
   "source": [
    "## C. Create DataFrame with encoded columns"
   ]
  },
  {
   "cell_type": "code",
   "execution_count": 19,
   "id": "5b55acfd-2345-4752-9d42-c3a13ebca2bd",
   "metadata": {},
   "outputs": [],
   "source": [
    "encoded_df = pd.DataFrame(encoded_cols, columns = encoder.get_feature_names_out(categorical_cols))"
   ]
  },
  {
   "cell_type": "markdown",
   "id": "5a5ab89b-bb41-4c30-bdec-64e8471606e1",
   "metadata": {},
   "source": [
    "## D. Concatenate encoded columns back to original DataFrame (dropping original categorical columns)"
   ]
  },
  {
   "cell_type": "code",
   "execution_count": 21,
   "id": "b4de5c7d-f733-4294-878a-d6d5b34cac43",
   "metadata": {},
   "outputs": [],
   "source": [
    "df = pd.concat([df.drop(columns=categorical_cols), encoded_df], axis=1)"
   ]
  },
  {
   "cell_type": "markdown",
   "id": "b3f7973b-37d4-435c-abb3-992b59a267cd",
   "metadata": {},
   "source": [
    "## E. View the Encoded Dataset"
   ]
  },
  {
   "cell_type": "code",
   "execution_count": 23,
   "id": "e9f9a2f9-0aa9-4b5a-be91-1817710cc0d6",
   "metadata": {},
   "outputs": [
    {
     "data": {
      "text/html": [
       "<div>\n",
       "<style scoped>\n",
       "    .dataframe tbody tr th:only-of-type {\n",
       "        vertical-align: middle;\n",
       "    }\n",
       "\n",
       "    .dataframe tbody tr th {\n",
       "        vertical-align: top;\n",
       "    }\n",
       "\n",
       "    .dataframe thead th {\n",
       "        text-align: right;\n",
       "    }\n",
       "</style>\n",
       "<table border=\"1\" class=\"dataframe\">\n",
       "  <thead>\n",
       "    <tr style=\"text-align: right;\">\n",
       "      <th></th>\n",
       "      <th>no_of_factories</th>\n",
       "      <th>fixed_capital</th>\n",
       "      <th>working_capital</th>\n",
       "      <th>invested_capital</th>\n",
       "      <th>outstanding_loans</th>\n",
       "      <th>no_of_workers</th>\n",
       "      <th>total_persons_engaged</th>\n",
       "      <th>wages_workers</th>\n",
       "      <th>total_emoluments</th>\n",
       "      <th>pf_esi_others</th>\n",
       "      <th>...</th>\n",
       "      <th>Industry_Tanning Dressing Dyeing etc.</th>\n",
       "      <th>Industry_Tobacco products</th>\n",
       "      <th>Industry_Transport Equipment n.e.c.</th>\n",
       "      <th>Industry_Vegetable and animal oils and fats</th>\n",
       "      <th>Industry_Waste Collection</th>\n",
       "      <th>Industry_Waste Treatment and Disposal</th>\n",
       "      <th>Industry_Weapons and Ammunition</th>\n",
       "      <th>Industry_Wearing apparel except fur</th>\n",
       "      <th>Industry_Wiring Devices</th>\n",
       "      <th>Industry_Wood Products etc.</th>\n",
       "    </tr>\n",
       "  </thead>\n",
       "  <tbody>\n",
       "    <tr>\n",
       "      <th>0</th>\n",
       "      <td>3226</td>\n",
       "      <td>7.451960e+10</td>\n",
       "      <td>1.550000e+11</td>\n",
       "      <td>2.520000e+11</td>\n",
       "      <td>8.901980e+10</td>\n",
       "      <td>64408</td>\n",
       "      <td>83315</td>\n",
       "      <td>1.014880e+10</td>\n",
       "      <td>2.129680e+10</td>\n",
       "      <td>1561200000</td>\n",
       "      <td>...</td>\n",
       "      <td>0.0</td>\n",
       "      <td>0.0</td>\n",
       "      <td>0.0</td>\n",
       "      <td>0.0</td>\n",
       "      <td>0.0</td>\n",
       "      <td>0.0</td>\n",
       "      <td>0.0</td>\n",
       "      <td>0.0</td>\n",
       "      <td>0.0</td>\n",
       "      <td>0.0</td>\n",
       "    </tr>\n",
       "    <tr>\n",
       "      <th>1</th>\n",
       "      <td>131</td>\n",
       "      <td>6.623900e+09</td>\n",
       "      <td>3.749000e+09</td>\n",
       "      <td>9.121200e+09</td>\n",
       "      <td>2.786300e+09</td>\n",
       "      <td>6829</td>\n",
       "      <td>7928</td>\n",
       "      <td>9.300000e+08</td>\n",
       "      <td>1.503400e+09</td>\n",
       "      <td>173000000</td>\n",
       "      <td>...</td>\n",
       "      <td>0.0</td>\n",
       "      <td>0.0</td>\n",
       "      <td>0.0</td>\n",
       "      <td>0.0</td>\n",
       "      <td>0.0</td>\n",
       "      <td>0.0</td>\n",
       "      <td>0.0</td>\n",
       "      <td>0.0</td>\n",
       "      <td>0.0</td>\n",
       "      <td>0.0</td>\n",
       "    </tr>\n",
       "    <tr>\n",
       "      <th>2</th>\n",
       "      <td>187</td>\n",
       "      <td>3.387770e+10</td>\n",
       "      <td>2.916350e+10</td>\n",
       "      <td>5.641780e+10</td>\n",
       "      <td>1.283990e+10</td>\n",
       "      <td>25188</td>\n",
       "      <td>31822</td>\n",
       "      <td>4.624300e+09</td>\n",
       "      <td>9.515600e+09</td>\n",
       "      <td>903000000</td>\n",
       "      <td>...</td>\n",
       "      <td>0.0</td>\n",
       "      <td>0.0</td>\n",
       "      <td>0.0</td>\n",
       "      <td>0.0</td>\n",
       "      <td>0.0</td>\n",
       "      <td>0.0</td>\n",
       "      <td>0.0</td>\n",
       "      <td>0.0</td>\n",
       "      <td>0.0</td>\n",
       "      <td>0.0</td>\n",
       "    </tr>\n",
       "    <tr>\n",
       "      <th>3</th>\n",
       "      <td>706</td>\n",
       "      <td>8.898990e+10</td>\n",
       "      <td>1.010000e+11</td>\n",
       "      <td>1.930000e+11</td>\n",
       "      <td>3.890790e+10</td>\n",
       "      <td>90526</td>\n",
       "      <td>111882</td>\n",
       "      <td>1.549340e+10</td>\n",
       "      <td>2.849330e+10</td>\n",
       "      <td>3018700000</td>\n",
       "      <td>...</td>\n",
       "      <td>0.0</td>\n",
       "      <td>0.0</td>\n",
       "      <td>0.0</td>\n",
       "      <td>0.0</td>\n",
       "      <td>0.0</td>\n",
       "      <td>0.0</td>\n",
       "      <td>0.0</td>\n",
       "      <td>0.0</td>\n",
       "      <td>0.0</td>\n",
       "      <td>0.0</td>\n",
       "    </tr>\n",
       "    <tr>\n",
       "      <th>4</th>\n",
       "      <td>1346</td>\n",
       "      <td>1.230000e+11</td>\n",
       "      <td>7.125930e+10</td>\n",
       "      <td>1.970000e+11</td>\n",
       "      <td>1.000000e+11</td>\n",
       "      <td>70853</td>\n",
       "      <td>90481</td>\n",
       "      <td>1.223510e+10</td>\n",
       "      <td>2.556220e+10</td>\n",
       "      <td>2797800000</td>\n",
       "      <td>...</td>\n",
       "      <td>0.0</td>\n",
       "      <td>0.0</td>\n",
       "      <td>0.0</td>\n",
       "      <td>0.0</td>\n",
       "      <td>0.0</td>\n",
       "      <td>0.0</td>\n",
       "      <td>0.0</td>\n",
       "      <td>0.0</td>\n",
       "      <td>0.0</td>\n",
       "      <td>0.0</td>\n",
       "    </tr>\n",
       "  </tbody>\n",
       "</table>\n",
       "<p>5 rows × 106 columns</p>\n",
       "</div>"
      ],
      "text/plain": [
       "   no_of_factories  fixed_capital  working_capital  invested_capital  \\\n",
       "0             3226   7.451960e+10     1.550000e+11      2.520000e+11   \n",
       "1              131   6.623900e+09     3.749000e+09      9.121200e+09   \n",
       "2              187   3.387770e+10     2.916350e+10      5.641780e+10   \n",
       "3              706   8.898990e+10     1.010000e+11      1.930000e+11   \n",
       "4             1346   1.230000e+11     7.125930e+10      1.970000e+11   \n",
       "\n",
       "   outstanding_loans  no_of_workers  total_persons_engaged  wages_workers  \\\n",
       "0       8.901980e+10          64408                  83315   1.014880e+10   \n",
       "1       2.786300e+09           6829                   7928   9.300000e+08   \n",
       "2       1.283990e+10          25188                  31822   4.624300e+09   \n",
       "3       3.890790e+10          90526                 111882   1.549340e+10   \n",
       "4       1.000000e+11          70853                  90481   1.223510e+10   \n",
       "\n",
       "   total_emoluments  pf_esi_others  ...  \\\n",
       "0      2.129680e+10     1561200000  ...   \n",
       "1      1.503400e+09      173000000  ...   \n",
       "2      9.515600e+09      903000000  ...   \n",
       "3      2.849330e+10     3018700000  ...   \n",
       "4      2.556220e+10     2797800000  ...   \n",
       "\n",
       "   Industry_Tanning Dressing Dyeing etc.  Industry_Tobacco products  \\\n",
       "0                                    0.0                        0.0   \n",
       "1                                    0.0                        0.0   \n",
       "2                                    0.0                        0.0   \n",
       "3                                    0.0                        0.0   \n",
       "4                                    0.0                        0.0   \n",
       "\n",
       "   Industry_Transport Equipment n.e.c.  \\\n",
       "0                                  0.0   \n",
       "1                                  0.0   \n",
       "2                                  0.0   \n",
       "3                                  0.0   \n",
       "4                                  0.0   \n",
       "\n",
       "   Industry_Vegetable and animal oils and fats  Industry_Waste Collection  \\\n",
       "0                                          0.0                        0.0   \n",
       "1                                          0.0                        0.0   \n",
       "2                                          0.0                        0.0   \n",
       "3                                          0.0                        0.0   \n",
       "4                                          0.0                        0.0   \n",
       "\n",
       "   Industry_Waste Treatment and Disposal  Industry_Weapons and Ammunition  \\\n",
       "0                                    0.0                              0.0   \n",
       "1                                    0.0                              0.0   \n",
       "2                                    0.0                              0.0   \n",
       "3                                    0.0                              0.0   \n",
       "4                                    0.0                              0.0   \n",
       "\n",
       "   Industry_Wearing apparel except fur  Industry_Wiring Devices  \\\n",
       "0                                  0.0                      0.0   \n",
       "1                                  0.0                      0.0   \n",
       "2                                  0.0                      0.0   \n",
       "3                                  0.0                      0.0   \n",
       "4                                  0.0                      0.0   \n",
       "\n",
       "   Industry_Wood Products etc.  \n",
       "0                          0.0  \n",
       "1                          0.0  \n",
       "2                          0.0  \n",
       "3                          0.0  \n",
       "4                          0.0  \n",
       "\n",
       "[5 rows x 106 columns]"
      ]
     },
     "execution_count": 23,
     "metadata": {},
     "output_type": "execute_result"
    }
   ],
   "source": [
    "df.head()"
   ]
  },
  {
   "cell_type": "markdown",
   "id": "745d421d-f380-4f02-ae1f-2e9bc2b18c30",
   "metadata": {},
   "source": [
    "# Step-4: Perform PCA for Dimensionality Reduction"
   ]
  },
  {
   "cell_type": "markdown",
   "id": "70c30dfe-b434-4115-a128-ae01b17fa87c",
   "metadata": {},
   "source": [
    "## A. Importing the libraries"
   ]
  },
  {
   "cell_type": "code",
   "execution_count": 26,
   "id": "2c671eeb-4013-4281-97c0-6c58ce6f85c3",
   "metadata": {},
   "outputs": [],
   "source": [
    "from sklearn.preprocessing import StandardScaler\n",
    "from sklearn.decomposition import PCA\n",
    "import matplotlib.pyplot as plt"
   ]
  },
  {
   "cell_type": "markdown",
   "id": "0a431d62-727b-4f47-a61c-b16f17d6d524",
   "metadata": {},
   "source": [
    "## B. Standardize the data"
   ]
  },
  {
   "cell_type": "code",
   "execution_count": 28,
   "id": "8f3d5e7d-1ffd-4baa-a14c-4d400199a562",
   "metadata": {},
   "outputs": [],
   "source": [
    "scaler = StandardScaler()\n",
    "df_scaled = scaler.fit_transform(df)"
   ]
  },
  {
   "cell_type": "markdown",
   "id": "e2d9b122-6967-4ea9-8c1e-eab34173b7a9",
   "metadata": {},
   "source": [
    "## C. Apply PCA"
   ]
  },
  {
   "cell_type": "code",
   "execution_count": 30,
   "id": "b7343bd7-7335-4e2f-be03-a5811e91bd96",
   "metadata": {},
   "outputs": [],
   "source": [
    "pca = PCA()\n",
    "pca_components = pca.fit_transform(df_scaled)"
   ]
  },
  {
   "cell_type": "markdown",
   "id": "232ffd39-0980-45fa-9b64-22740f690a58",
   "metadata": {},
   "source": [
    "## D. Calculate the cumulative explained variance to choose number of components"
   ]
  },
  {
   "cell_type": "code",
   "execution_count": 32,
   "id": "d9b676b8-596a-497d-9adf-87343cbf38f4",
   "metadata": {},
   "outputs": [
    {
     "data": {
      "image/png": "[encoded data removed]",
      "text/plain": [
       "<Figure size 640x480 with 1 Axes>"
      ]
     },
     "metadata": {},
     "output_type": "display_data"
    }
   ],
   "source": [
    "explained_variance = pca.explained_variance_ratio_.cumsum()\n",
    "plt.plot(range(1, len(explained_variance) + 1), explained_variance, marker = 'o')\n",
    "plt.xlabel('Number of Components')\n",
    "plt.ylabel('Cumulative Explained Variance')\n",
    "plt.show()"
   ]
  },
  {
   "cell_type": "markdown",
   "id": "830bc61d-c361-4f37-9f5b-c2acd93ed0c1",
   "metadata": {},
   "source": [
    "## E. Selecting the number of components (e.g., explaining ~90% variance)"
   ]
  },
  {
   "cell_type": "code",
   "execution_count": 34,
   "id": "2a6bdb35-775d-4f0a-927c-34d282dd4048",
   "metadata": {},
   "outputs": [],
   "source": [
    "n_components = next(i for i, v in enumerate(explained_variance) if v > 0.9)\n",
    "pca = PCA(n_components = n_components)\n",
    "df_pca = pca.fit_transform(df_scaled)"
   ]
  },
  {
   "cell_type": "markdown",
   "id": "c36d0a93-690a-4edb-a7d5-92d84866c47b",
   "metadata": {},
   "source": [
    "# Step-5: Determine Optimal Clusters Using K-Means"
   ]
  },
  {
   "cell_type": "markdown",
   "id": "f484cade-8c03-4442-a2b0-fec29969440d",
   "metadata": {},
   "source": [
    "## A. Importing the libraries"
   ]
  },
  {
   "cell_type": "code",
   "execution_count": 37,
   "id": "d207dd5b-2669-411a-880e-465cb85ca0d2",
   "metadata": {},
   "outputs": [],
   "source": [
    "from sklearn.cluster import KMeans\n",
    "from sklearn.metrics import silhouette_score"
   ]
  },
  {
   "cell_type": "markdown",
   "id": "90937d65-ccb3-49da-9542-e75169e5a2a1",
   "metadata": {},
   "source": [
    "## B. Elbow method and Silhouette score analysis"
   ]
  },
  {
   "cell_type": "code",
   "execution_count": 39,
   "id": "c3b3b420-3f65-47a5-9044-0a2f20d0d46a",
   "metadata": {},
   "outputs": [
    {
     "name": "stderr",
     "output_type": "stream",
     "text": [
      "C:\\Users\\Nilotpal\\anaconda3\\Lib\\site-packages\\sklearn\\cluster\\_kmeans.py:1446: UserWarning: KMeans is known to have a memory leak on Windows with MKL, when there are less chunks than available threads. You can avoid it by setting the environment variable OMP_NUM_THREADS=1.\n",
      "  warnings.warn(\n",
      "C:\\Users\\Nilotpal\\anaconda3\\Lib\\site-packages\\sklearn\\cluster\\_kmeans.py:1446: UserWarning: KMeans is known to have a memory leak on Windows with MKL, when there are less chunks than available threads. You can avoid it by setting the environment variable OMP_NUM_THREADS=1.\n",
      "  warnings.warn(\n",
      "C:\\Users\\Nilotpal\\anaconda3\\Lib\\site-packages\\sklearn\\cluster\\_kmeans.py:1446: UserWarning: KMeans is known to have a memory leak on Windows with MKL, when there are less chunks than available threads. You can avoid it by setting the environment variable OMP_NUM_THREADS=1.\n",
      "  warnings.warn(\n",
      "C:\\Users\\Nilotpal\\anaconda3\\Lib\\site-packages\\sklearn\\cluster\\_kmeans.py:1446: UserWarning: KMeans is known to have a memory leak on Windows with MKL, when there are less chunks than available threads. You can avoid it by setting the environment variable OMP_NUM_THREADS=1.\n",
      "  warnings.warn(\n",
      "C:\\Users\\Nilotpal\\anaconda3\\Lib\\site-packages\\sklearn\\cluster\\_kmeans.py:1446: UserWarning: KMeans is known to have a memory leak on Windows with MKL, when there are less chunks than available threads. You can avoid it by setting the environment variable OMP_NUM_THREADS=1.\n",
      "  warnings.warn(\n",
      "C:\\Users\\Nilotpal\\anaconda3\\Lib\\site-packages\\sklearn\\cluster\\_kmeans.py:1446: UserWarning: KMeans is known to have a memory leak on Windows with MKL, when there are less chunks than available threads. You can avoid it by setting the environment variable OMP_NUM_THREADS=1.\n",
      "  warnings.warn(\n",
      "C:\\Users\\Nilotpal\\anaconda3\\Lib\\site-packages\\sklearn\\cluster\\_kmeans.py:1446: UserWarning: KMeans is known to have a memory leak on Windows with MKL, when there are less chunks than available threads. You can avoid it by setting the environment variable OMP_NUM_THREADS=1.\n",
      "  warnings.warn(\n",
      "C:\\Users\\Nilotpal\\anaconda3\\Lib\\site-packages\\sklearn\\cluster\\_kmeans.py:1446: UserWarning: KMeans is known to have a memory leak on Windows with MKL, when there are less chunks than available threads. You can avoid it by setting the environment variable OMP_NUM_THREADS=1.\n",
      "  warnings.warn(\n",
      "C:\\Users\\Nilotpal\\anaconda3\\Lib\\site-packages\\sklearn\\cluster\\_kmeans.py:1446: UserWarning: KMeans is known to have a memory leak on Windows with MKL, when there are less chunks than available threads. You can avoid it by setting the environment variable OMP_NUM_THREADS=1.\n",
      "  warnings.warn(\n"
     ]
    }
   ],
   "source": [
    "sse = []\n",
    "silhouette_scores = []\n",
    "cluster_range = range(2, 11)\n",
    "\n",
    "for k in cluster_range:\n",
    "    kmeans = KMeans(n_clusters=k, random_state = 42)\n",
    "    kmeans.fit(df_pca)\n",
    "    sse.append(kmeans.inertia_)\n",
    "    silhouette_scores.append(silhouette_score(df_pca, kmeans.labels_))"
   ]
  },
  {
   "cell_type": "markdown",
   "id": "b51bef9b-6778-4f4f-ab10-3c0b416d37bd",
   "metadata": {},
   "source": [
    "## C. Plot SSE and Silhouette Score"
   ]
  },
  {
   "cell_type": "code",
   "execution_count": 41,
   "id": "11b7356f-7d28-4ea7-a01d-8927b99e2235",
   "metadata": {},
   "outputs": [
    {
     "data": {
      "image/png": "[encoded data removed]",
      "text/plain": [
       "<Figure size 1200x500 with 2 Axes>"
      ]
     },
     "metadata": {},
     "output_type": "display_data"
    }
   ],
   "source": [
    "plt.figure(figsize = (12, 5))\n",
    "plt.subplot(1, 2, 1)\n",
    "plt.plot(cluster_range, sse, marker = 'o')\n",
    "plt.xlabel('Number of Clusters (k)')\n",
    "plt.ylabel('SSE')\n",
    "plt.title('Elbow Method for Optimal k (Industry)')\n",
    "\n",
    "plt.subplot(1, 2, 2)\n",
    "plt.plot(cluster_range, silhouette_scores, marker = 'o')\n",
    "plt.xlabel('Number of Clusters (k)')\n",
    "plt.ylabel('Silhouette Score')\n",
    "plt.title('Silhouette Score Analysis for Optimal k (Industry)')\n",
    "\n",
    "plt.show()"
   ]
  },
  {
   "cell_type": "markdown",
   "id": "6b620d4d-f351-4231-be99-ca903a3281ac",
   "metadata": {},
   "source": [
    "# Step-6: Perform K-Means Clustering"
   ]
  },
  {
   "cell_type": "markdown",
   "id": "461f2243-8abf-4a3e-8ed5-c1962fa6f9be",
   "metadata": {},
   "source": [
    "## A. Finding the the optimal k and adding the cluster labels to the original data"
   ]
  },
  {
   "cell_type": "code",
   "execution_count": 44,
   "id": "99caf326-47cf-4dc2-9d4f-c486219a2969",
   "metadata": {},
   "outputs": [
    {
     "name": "stderr",
     "output_type": "stream",
     "text": [
      "C:\\Users\\Nilotpal\\anaconda3\\Lib\\site-packages\\sklearn\\cluster\\_kmeans.py:1446: UserWarning: KMeans is known to have a memory leak on Windows with MKL, when there are less chunks than available threads. You can avoid it by setting the environment variable OMP_NUM_THREADS=1.\n",
      "  warnings.warn(\n"
     ]
    }
   ],
   "source": [
    "optimal_k = cluster_range[silhouette_scores.index(max(silhouette_scores))]\n",
    "kmeans = KMeans(n_clusters = optimal_k, random_state = 42)\n",
    "df['Cluster'] = kmeans.fit_predict(df_pca)"
   ]
  },
  {
   "cell_type": "markdown",
   "id": "a1445031-f1b2-47e3-9688-8ca4c820904a",
   "metadata": {},
   "source": [
    "## B. Display the first few rows with cluster labels"
   ]
  },
  {
   "cell_type": "code",
   "execution_count": 46,
   "id": "c97c625a-9d38-496a-b95e-fa0ca01f5897",
   "metadata": {},
   "outputs": [
    {
     "data": {
      "text/html": [
       "<div>\n",
       "<style scoped>\n",
       "    .dataframe tbody tr th:only-of-type {\n",
       "        vertical-align: middle;\n",
       "    }\n",
       "\n",
       "    .dataframe tbody tr th {\n",
       "        vertical-align: top;\n",
       "    }\n",
       "\n",
       "    .dataframe thead th {\n",
       "        text-align: right;\n",
       "    }\n",
       "</style>\n",
       "<table border=\"1\" class=\"dataframe\">\n",
       "  <thead>\n",
       "    <tr style=\"text-align: right;\">\n",
       "      <th></th>\n",
       "      <th>no_of_factories</th>\n",
       "      <th>fixed_capital</th>\n",
       "      <th>working_capital</th>\n",
       "      <th>invested_capital</th>\n",
       "      <th>outstanding_loans</th>\n",
       "      <th>no_of_workers</th>\n",
       "      <th>total_persons_engaged</th>\n",
       "      <th>wages_workers</th>\n",
       "      <th>total_emoluments</th>\n",
       "      <th>pf_esi_others</th>\n",
       "      <th>...</th>\n",
       "      <th>Industry_Tobacco products</th>\n",
       "      <th>Industry_Transport Equipment n.e.c.</th>\n",
       "      <th>Industry_Vegetable and animal oils and fats</th>\n",
       "      <th>Industry_Waste Collection</th>\n",
       "      <th>Industry_Waste Treatment and Disposal</th>\n",
       "      <th>Industry_Weapons and Ammunition</th>\n",
       "      <th>Industry_Wearing apparel except fur</th>\n",
       "      <th>Industry_Wiring Devices</th>\n",
       "      <th>Industry_Wood Products etc.</th>\n",
       "      <th>Cluster</th>\n",
       "    </tr>\n",
       "  </thead>\n",
       "  <tbody>\n",
       "    <tr>\n",
       "      <th>0</th>\n",
       "      <td>3226</td>\n",
       "      <td>7.451960e+10</td>\n",
       "      <td>1.550000e+11</td>\n",
       "      <td>2.520000e+11</td>\n",
       "      <td>8.901980e+10</td>\n",
       "      <td>64408</td>\n",
       "      <td>83315</td>\n",
       "      <td>1.014880e+10</td>\n",
       "      <td>2.129680e+10</td>\n",
       "      <td>1561200000</td>\n",
       "      <td>...</td>\n",
       "      <td>0.0</td>\n",
       "      <td>0.0</td>\n",
       "      <td>0.0</td>\n",
       "      <td>0.0</td>\n",
       "      <td>0.0</td>\n",
       "      <td>0.0</td>\n",
       "      <td>0.0</td>\n",
       "      <td>0.0</td>\n",
       "      <td>0.0</td>\n",
       "      <td>1</td>\n",
       "    </tr>\n",
       "    <tr>\n",
       "      <th>1</th>\n",
       "      <td>131</td>\n",
       "      <td>6.623900e+09</td>\n",
       "      <td>3.749000e+09</td>\n",
       "      <td>9.121200e+09</td>\n",
       "      <td>2.786300e+09</td>\n",
       "      <td>6829</td>\n",
       "      <td>7928</td>\n",
       "      <td>9.300000e+08</td>\n",
       "      <td>1.503400e+09</td>\n",
       "      <td>173000000</td>\n",
       "      <td>...</td>\n",
       "      <td>0.0</td>\n",
       "      <td>0.0</td>\n",
       "      <td>0.0</td>\n",
       "      <td>0.0</td>\n",
       "      <td>0.0</td>\n",
       "      <td>0.0</td>\n",
       "      <td>0.0</td>\n",
       "      <td>0.0</td>\n",
       "      <td>0.0</td>\n",
       "      <td>1</td>\n",
       "    </tr>\n",
       "    <tr>\n",
       "      <th>2</th>\n",
       "      <td>187</td>\n",
       "      <td>3.387770e+10</td>\n",
       "      <td>2.916350e+10</td>\n",
       "      <td>5.641780e+10</td>\n",
       "      <td>1.283990e+10</td>\n",
       "      <td>25188</td>\n",
       "      <td>31822</td>\n",
       "      <td>4.624300e+09</td>\n",
       "      <td>9.515600e+09</td>\n",
       "      <td>903000000</td>\n",
       "      <td>...</td>\n",
       "      <td>0.0</td>\n",
       "      <td>0.0</td>\n",
       "      <td>0.0</td>\n",
       "      <td>0.0</td>\n",
       "      <td>0.0</td>\n",
       "      <td>0.0</td>\n",
       "      <td>0.0</td>\n",
       "      <td>0.0</td>\n",
       "      <td>0.0</td>\n",
       "      <td>1</td>\n",
       "    </tr>\n",
       "    <tr>\n",
       "      <th>3</th>\n",
       "      <td>706</td>\n",
       "      <td>8.898990e+10</td>\n",
       "      <td>1.010000e+11</td>\n",
       "      <td>1.930000e+11</td>\n",
       "      <td>3.890790e+10</td>\n",
       "      <td>90526</td>\n",
       "      <td>111882</td>\n",
       "      <td>1.549340e+10</td>\n",
       "      <td>2.849330e+10</td>\n",
       "      <td>3018700000</td>\n",
       "      <td>...</td>\n",
       "      <td>0.0</td>\n",
       "      <td>0.0</td>\n",
       "      <td>0.0</td>\n",
       "      <td>0.0</td>\n",
       "      <td>0.0</td>\n",
       "      <td>0.0</td>\n",
       "      <td>0.0</td>\n",
       "      <td>0.0</td>\n",
       "      <td>0.0</td>\n",
       "      <td>1</td>\n",
       "    </tr>\n",
       "    <tr>\n",
       "      <th>4</th>\n",
       "      <td>1346</td>\n",
       "      <td>1.230000e+11</td>\n",
       "      <td>7.125930e+10</td>\n",
       "      <td>1.970000e+11</td>\n",
       "      <td>1.000000e+11</td>\n",
       "      <td>70853</td>\n",
       "      <td>90481</td>\n",
       "      <td>1.223510e+10</td>\n",
       "      <td>2.556220e+10</td>\n",
       "      <td>2797800000</td>\n",
       "      <td>...</td>\n",
       "      <td>0.0</td>\n",
       "      <td>0.0</td>\n",
       "      <td>0.0</td>\n",
       "      <td>0.0</td>\n",
       "      <td>0.0</td>\n",
       "      <td>0.0</td>\n",
       "      <td>0.0</td>\n",
       "      <td>0.0</td>\n",
       "      <td>0.0</td>\n",
       "      <td>1</td>\n",
       "    </tr>\n",
       "  </tbody>\n",
       "</table>\n",
       "<p>5 rows × 107 columns</p>\n",
       "</div>"
      ],
      "text/plain": [
       "   no_of_factories  fixed_capital  working_capital  invested_capital  \\\n",
       "0             3226   7.451960e+10     1.550000e+11      2.520000e+11   \n",
       "1              131   6.623900e+09     3.749000e+09      9.121200e+09   \n",
       "2              187   3.387770e+10     2.916350e+10      5.641780e+10   \n",
       "3              706   8.898990e+10     1.010000e+11      1.930000e+11   \n",
       "4             1346   1.230000e+11     7.125930e+10      1.970000e+11   \n",
       "\n",
       "   outstanding_loans  no_of_workers  total_persons_engaged  wages_workers  \\\n",
       "0       8.901980e+10          64408                  83315   1.014880e+10   \n",
       "1       2.786300e+09           6829                   7928   9.300000e+08   \n",
       "2       1.283990e+10          25188                  31822   4.624300e+09   \n",
       "3       3.890790e+10          90526                 111882   1.549340e+10   \n",
       "4       1.000000e+11          70853                  90481   1.223510e+10   \n",
       "\n",
       "   total_emoluments  pf_esi_others  ...  Industry_Tobacco products  \\\n",
       "0      2.129680e+10     1561200000  ...                        0.0   \n",
       "1      1.503400e+09      173000000  ...                        0.0   \n",
       "2      9.515600e+09      903000000  ...                        0.0   \n",
       "3      2.849330e+10     3018700000  ...                        0.0   \n",
       "4      2.556220e+10     2797800000  ...                        0.0   \n",
       "\n",
       "   Industry_Transport Equipment n.e.c.  \\\n",
       "0                                  0.0   \n",
       "1                                  0.0   \n",
       "2                                  0.0   \n",
       "3                                  0.0   \n",
       "4                                  0.0   \n",
       "\n",
       "   Industry_Vegetable and animal oils and fats  Industry_Waste Collection  \\\n",
       "0                                          0.0                        0.0   \n",
       "1                                          0.0                        0.0   \n",
       "2                                          0.0                        0.0   \n",
       "3                                          0.0                        0.0   \n",
       "4                                          0.0                        0.0   \n",
       "\n",
       "   Industry_Waste Treatment and Disposal  Industry_Weapons and Ammunition  \\\n",
       "0                                    0.0                              0.0   \n",
       "1                                    0.0                              0.0   \n",
       "2                                    0.0                              0.0   \n",
       "3                                    0.0                              0.0   \n",
       "4                                    0.0                              0.0   \n",
       "\n",
       "   Industry_Wearing apparel except fur  Industry_Wiring Devices  \\\n",
       "0                                  0.0                      0.0   \n",
       "1                                  0.0                      0.0   \n",
       "2                                  0.0                      0.0   \n",
       "3                                  0.0                      0.0   \n",
       "4                                  0.0                      0.0   \n",
       "\n",
       "   Industry_Wood Products etc.  Cluster  \n",
       "0                          0.0        1  \n",
       "1                          0.0        1  \n",
       "2                          0.0        1  \n",
       "3                          0.0        1  \n",
       "4                          0.0        1  \n",
       "\n",
       "[5 rows x 107 columns]"
      ]
     },
     "execution_count": 46,
     "metadata": {},
     "output_type": "execute_result"
    }
   ],
   "source": [
    "df.head()"
   ]
  },
  {
   "cell_type": "markdown",
   "id": "5dde227a-d30a-4351-bcf7-9600a77edbd8",
   "metadata": {},
   "source": [
    "# Step-7: Visualizing the clusters on the PCA-reduced data"
   ]
  },
  {
   "cell_type": "markdown",
   "id": "a2f1c188-1030-49f4-a821-817a704594ca",
   "metadata": {},
   "source": [
    "## A. Importing the library"
   ]
  },
  {
   "cell_type": "code",
   "execution_count": 49,
   "id": "1e517975-d1ef-412d-a9f1-2ceeb35514ed",
   "metadata": {},
   "outputs": [],
   "source": [
    "import seaborn as sns"
   ]
  },
  {
   "cell_type": "markdown",
   "id": "106a5310-3b4d-4c49-aedf-64faee01da71",
   "metadata": {},
   "source": [
    "## B. Plotting the Clusters"
   ]
  },
  {
   "cell_type": "code",
   "execution_count": 51,
   "id": "cfcefcf0-3672-42ff-8c47-5c8c56ec3b88",
   "metadata": {},
   "outputs": [
    {
     "data": {
      "image/png": "[encoded data removed]",
      "text/plain": [
       "<Figure size 1000x700 with 1 Axes>"
      ]
     },
     "metadata": {},
     "output_type": "display_data"
    }
   ],
   "source": [
    "plt.figure(figsize = (10, 7))\n",
    "sns.scatterplot(x = df_pca[:, 0], y = df_pca[:, 1], hue = df['Cluster'], palette = 'viridis', s = 100)\n",
    "plt.xlabel('PCA Component 1')\n",
    "plt.ylabel('PCA Component 2')\n",
    "plt.title('Industry-wise Clusters based on PCA')\n",
    "plt.legend(title = 'Cluster')\n",
    "plt.show()"
   ]
  },
  {
   "cell_type": "markdown",
   "id": "af6f4d09-80e9-43f3-8184-e3907ca9167a",
   "metadata": {},
   "source": [
    "## C. View the names of the higher performing industries i.e. Industries belonging to Cluster 0"
   ]
  },
  {
   "cell_type": "code",
   "execution_count": 53,
   "id": "891ae5b9-a751-418a-a2ff-aa6c9ac597f3",
   "metadata": {},
   "outputs": [
    {
     "name": "stdout",
     "output_type": "stream",
     "text": [
      "8                             Misc. Food Products\n",
      "12    Spinning, weaving and finishing of textiles\n",
      "24                     Refined petroleum products\n",
      "25                           Basic Chemicals etc.\n",
      "26                                Other Chemicals\n",
      "28                      Pharmaceuticals  Products\n",
      "32                  Non Metallic Mineral Products\n",
      "33                           Basic Iron and Steel\n",
      "53                      General Purpose Machinery\n",
      "55                                 Motor Vehicles\n",
      "57                        Parts of Motor Vehicles\n",
      "76                                         Others\n",
      "Name: Industry, dtype: object\n"
     ]
    }
   ],
   "source": [
    "X = pd.read_csv('iws.csv')\n",
    "df.insert(0, 'Industry', X['Industry'])\n",
    "ic1 = df[df['Cluster'] == 0]['Industry']\n",
    "print(ic1)"
   ]
  },
  {
   "cell_type": "markdown",
   "id": "8ce42c32-d0e7-446b-b38a-901198772889",
   "metadata": {},
   "source": [
    "## D. Save the clustered data"
   ]
  },
  {
   "cell_type": "code",
   "execution_count": 55,
   "id": "f0792cb6-17ee-4c61-a775-822da5c38201",
   "metadata": {},
   "outputs": [],
   "source": [
    "df.to_csv('segmented_industries.csv', index = False)"
   ]
  }
 ],
 "metadata": {
  "kernelspec": {
   "display_name": "Python 3 (ipykernel)",
   "language": "python",
   "name": "python3"
  },
  "language_info": {
   "codemirror_mode": {
    "name": "ipython",
    "version": 3
   },
   "file_extension": ".py",
   "mimetype": "text/x-python",
   "name": "python",
   "nbconvert_exporter": "python",
   "pygments_lexer": "ipython3",
   "version": "3.12.4"
  }
 },
 "nbformat": 4,
 "nbformat_minor": 5
}
